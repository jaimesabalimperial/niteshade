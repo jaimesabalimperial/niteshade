{
  "nbformat": 4,
  "nbformat_minor": 0,
  "metadata": {
    "colab": {
      "name": "demo.ipynb",
      "provenance": [],
      "collapsed_sections": [],
      "machine_shape": "hm"
    },
    "kernelspec": {
      "name": "python3",
      "display_name": "Python 3"
    },
    "language_info": {
      "name": "python"
    },
    "accelerator": "GPU",
    "widgets": {
      "application/vnd.jupyter.widget-state+json": {
        "13c6423d4a1649128412ad4e5045cf10": {
          "model_module": "@jupyter-widgets/controls",
          "model_name": "HBoxModel",
          "model_module_version": "1.5.0",
          "state": {
            "_dom_classes": [],
            "_model_module": "@jupyter-widgets/controls",
            "_model_module_version": "1.5.0",
            "_model_name": "HBoxModel",
            "_view_count": null,
            "_view_module": "@jupyter-widgets/controls",
            "_view_module_version": "1.5.0",
            "_view_name": "HBoxView",
            "box_style": "",
            "children": [
              "IPY_MODEL_d75f3f276c7c4eff8876d604a1065368",
              "IPY_MODEL_ab1101d002fa4f059fac4490158ef671",
              "IPY_MODEL_5ccda0eeaf344902b893750e24b22935"
            ],
            "layout": "IPY_MODEL_4880af46d5d74c34948c8e5bcf7b3dae"
          }
        },
        "d75f3f276c7c4eff8876d604a1065368": {
          "model_module": "@jupyter-widgets/controls",
          "model_name": "HTMLModel",
          "model_module_version": "1.5.0",
          "state": {
            "_dom_classes": [],
            "_model_module": "@jupyter-widgets/controls",
            "_model_module_version": "1.5.0",
            "_model_name": "HTMLModel",
            "_view_count": null,
            "_view_module": "@jupyter-widgets/controls",
            "_view_module_version": "1.5.0",
            "_view_name": "HTMLView",
            "description": "",
            "description_tooltip": null,
            "layout": "IPY_MODEL_6852ddb0b21047569596dcc85f06521c",
            "placeholder": "​",
            "style": "IPY_MODEL_d7fe4e6f1df14a7cae9522e00e410242",
            "value": ""
          }
        },
        "ab1101d002fa4f059fac4490158ef671": {
          "model_module": "@jupyter-widgets/controls",
          "model_name": "FloatProgressModel",
          "model_module_version": "1.5.0",
          "state": {
            "_dom_classes": [],
            "_model_module": "@jupyter-widgets/controls",
            "_model_module_version": "1.5.0",
            "_model_name": "FloatProgressModel",
            "_view_count": null,
            "_view_module": "@jupyter-widgets/controls",
            "_view_module_version": "1.5.0",
            "_view_name": "ProgressView",
            "bar_style": "success",
            "description": "",
            "description_tooltip": null,
            "layout": "IPY_MODEL_b4562e2bcb824398bf073bc194fa4cbc",
            "max": 170498071,
            "min": 0,
            "orientation": "horizontal",
            "style": "IPY_MODEL_6718913c49d04cb58dedd57581a9c201",
            "value": 170498071
          }
        },
        "5ccda0eeaf344902b893750e24b22935": {
          "model_module": "@jupyter-widgets/controls",
          "model_name": "HTMLModel",
          "model_module_version": "1.5.0",
          "state": {
            "_dom_classes": [],
            "_model_module": "@jupyter-widgets/controls",
            "_model_module_version": "1.5.0",
            "_model_name": "HTMLModel",
            "_view_count": null,
            "_view_module": "@jupyter-widgets/controls",
            "_view_module_version": "1.5.0",
            "_view_name": "HTMLView",
            "description": "",
            "description_tooltip": null,
            "layout": "IPY_MODEL_1585615e0a0d4b51a1d94ff2bffb2c39",
            "placeholder": "​",
            "style": "IPY_MODEL_4e3860efebe34441897ad5fc48ab9004",
            "value": " 170499072/? [00:03&lt;00:00, 48943222.44it/s]"
          }
        },
        "4880af46d5d74c34948c8e5bcf7b3dae": {
          "model_module": "@jupyter-widgets/base",
          "model_name": "LayoutModel",
          "model_module_version": "1.2.0",
          "state": {
            "_model_module": "@jupyter-widgets/base",
            "_model_module_version": "1.2.0",
            "_model_name": "LayoutModel",
            "_view_count": null,
            "_view_module": "@jupyter-widgets/base",
            "_view_module_version": "1.2.0",
            "_view_name": "LayoutView",
            "align_content": null,
            "align_items": null,
            "align_self": null,
            "border": null,
            "bottom": null,
            "display": null,
            "flex": null,
            "flex_flow": null,
            "grid_area": null,
            "grid_auto_columns": null,
            "grid_auto_flow": null,
            "grid_auto_rows": null,
            "grid_column": null,
            "grid_gap": null,
            "grid_row": null,
            "grid_template_areas": null,
            "grid_template_columns": null,
            "grid_template_rows": null,
            "height": null,
            "justify_content": null,
            "justify_items": null,
            "left": null,
            "margin": null,
            "max_height": null,
            "max_width": null,
            "min_height": null,
            "min_width": null,
            "object_fit": null,
            "object_position": null,
            "order": null,
            "overflow": null,
            "overflow_x": null,
            "overflow_y": null,
            "padding": null,
            "right": null,
            "top": null,
            "visibility": null,
            "width": null
          }
        },
        "6852ddb0b21047569596dcc85f06521c": {
          "model_module": "@jupyter-widgets/base",
          "model_name": "LayoutModel",
          "model_module_version": "1.2.0",
          "state": {
            "_model_module": "@jupyter-widgets/base",
            "_model_module_version": "1.2.0",
            "_model_name": "LayoutModel",
            "_view_count": null,
            "_view_module": "@jupyter-widgets/base",
            "_view_module_version": "1.2.0",
            "_view_name": "LayoutView",
            "align_content": null,
            "align_items": null,
            "align_self": null,
            "border": null,
            "bottom": null,
            "display": null,
            "flex": null,
            "flex_flow": null,
            "grid_area": null,
            "grid_auto_columns": null,
            "grid_auto_flow": null,
            "grid_auto_rows": null,
            "grid_column": null,
            "grid_gap": null,
            "grid_row": null,
            "grid_template_areas": null,
            "grid_template_columns": null,
            "grid_template_rows": null,
            "height": null,
            "justify_content": null,
            "justify_items": null,
            "left": null,
            "margin": null,
            "max_height": null,
            "max_width": null,
            "min_height": null,
            "min_width": null,
            "object_fit": null,
            "object_position": null,
            "order": null,
            "overflow": null,
            "overflow_x": null,
            "overflow_y": null,
            "padding": null,
            "right": null,
            "top": null,
            "visibility": null,
            "width": null
          }
        },
        "d7fe4e6f1df14a7cae9522e00e410242": {
          "model_module": "@jupyter-widgets/controls",
          "model_name": "DescriptionStyleModel",
          "model_module_version": "1.5.0",
          "state": {
            "_model_module": "@jupyter-widgets/controls",
            "_model_module_version": "1.5.0",
            "_model_name": "DescriptionStyleModel",
            "_view_count": null,
            "_view_module": "@jupyter-widgets/base",
            "_view_module_version": "1.2.0",
            "_view_name": "StyleView",
            "description_width": ""
          }
        },
        "b4562e2bcb824398bf073bc194fa4cbc": {
          "model_module": "@jupyter-widgets/base",
          "model_name": "LayoutModel",
          "model_module_version": "1.2.0",
          "state": {
            "_model_module": "@jupyter-widgets/base",
            "_model_module_version": "1.2.0",
            "_model_name": "LayoutModel",
            "_view_count": null,
            "_view_module": "@jupyter-widgets/base",
            "_view_module_version": "1.2.0",
            "_view_name": "LayoutView",
            "align_content": null,
            "align_items": null,
            "align_self": null,
            "border": null,
            "bottom": null,
            "display": null,
            "flex": null,
            "flex_flow": null,
            "grid_area": null,
            "grid_auto_columns": null,
            "grid_auto_flow": null,
            "grid_auto_rows": null,
            "grid_column": null,
            "grid_gap": null,
            "grid_row": null,
            "grid_template_areas": null,
            "grid_template_columns": null,
            "grid_template_rows": null,
            "height": null,
            "justify_content": null,
            "justify_items": null,
            "left": null,
            "margin": null,
            "max_height": null,
            "max_width": null,
            "min_height": null,
            "min_width": null,
            "object_fit": null,
            "object_position": null,
            "order": null,
            "overflow": null,
            "overflow_x": null,
            "overflow_y": null,
            "padding": null,
            "right": null,
            "top": null,
            "visibility": null,
            "width": null
          }
        },
        "6718913c49d04cb58dedd57581a9c201": {
          "model_module": "@jupyter-widgets/controls",
          "model_name": "ProgressStyleModel",
          "model_module_version": "1.5.0",
          "state": {
            "_model_module": "@jupyter-widgets/controls",
            "_model_module_version": "1.5.0",
            "_model_name": "ProgressStyleModel",
            "_view_count": null,
            "_view_module": "@jupyter-widgets/base",
            "_view_module_version": "1.2.0",
            "_view_name": "StyleView",
            "bar_color": null,
            "description_width": ""
          }
        },
        "1585615e0a0d4b51a1d94ff2bffb2c39": {
          "model_module": "@jupyter-widgets/base",
          "model_name": "LayoutModel",
          "model_module_version": "1.2.0",
          "state": {
            "_model_module": "@jupyter-widgets/base",
            "_model_module_version": "1.2.0",
            "_model_name": "LayoutModel",
            "_view_count": null,
            "_view_module": "@jupyter-widgets/base",
            "_view_module_version": "1.2.0",
            "_view_name": "LayoutView",
            "align_content": null,
            "align_items": null,
            "align_self": null,
            "border": null,
            "bottom": null,
            "display": null,
            "flex": null,
            "flex_flow": null,
            "grid_area": null,
            "grid_auto_columns": null,
            "grid_auto_flow": null,
            "grid_auto_rows": null,
            "grid_column": null,
            "grid_gap": null,
            "grid_row": null,
            "grid_template_areas": null,
            "grid_template_columns": null,
            "grid_template_rows": null,
            "height": null,
            "justify_content": null,
            "justify_items": null,
            "left": null,
            "margin": null,
            "max_height": null,
            "max_width": null,
            "min_height": null,
            "min_width": null,
            "object_fit": null,
            "object_position": null,
            "order": null,
            "overflow": null,
            "overflow_x": null,
            "overflow_y": null,
            "padding": null,
            "right": null,
            "top": null,
            "visibility": null,
            "width": null
          }
        },
        "4e3860efebe34441897ad5fc48ab9004": {
          "model_module": "@jupyter-widgets/controls",
          "model_name": "DescriptionStyleModel",
          "model_module_version": "1.5.0",
          "state": {
            "_model_module": "@jupyter-widgets/controls",
            "_model_module_version": "1.5.0",
            "_model_name": "DescriptionStyleModel",
            "_view_count": null,
            "_view_module": "@jupyter-widgets/base",
            "_view_module_version": "1.2.0",
            "_view_name": "StyleView",
            "description_width": ""
          }
        }
      }
    }
  },
  "cells": [
    {
      "cell_type": "code",
      "execution_count": 1,
      "metadata": {
        "colab": {
          "base_uri": "https://localhost:8080/"
        },
        "id": "8VKebFUhOTuq",
        "outputId": "60a82cf7-9341-4159-9a17-ec095b02ad27"
      },
      "outputs": [
        {
          "output_type": "stream",
          "name": "stdout",
          "text": [
            "Cloning into 'niteshade'...\n",
            "remote: Enumerating objects: 2496, done.\u001b[K\n",
            "remote: Counting objects: 100% (402/402), done.\u001b[K\n",
            "remote: Compressing objects: 100% (286/286), done.\u001b[K\n",
            "remote: Total 2496 (delta 274), reused 224 (delta 112), pack-reused 2094\u001b[K\n",
            "Receiving objects: 100% (2496/2496), 25.68 MiB | 22.65 MiB/s, done.\n",
            "Resolving deltas: 100% (1765/1765), done.\n",
            "/content/niteshade\n",
            "Collecting fpdf\n",
            "  Downloading fpdf-1.7.2.tar.gz (39 kB)\n",
            "Building wheels for collected packages: fpdf\n",
            "  Building wheel for fpdf (setup.py) ... \u001b[?25l\u001b[?25hdone\n",
            "  Created wheel for fpdf: filename=fpdf-1.7.2-py2.py3-none-any.whl size=40725 sha256=982cf3e001feea6e0b21eaaab07b08b04d00091a4e84ee8b2e1bc551467e5d2b\n",
            "  Stored in directory: /root/.cache/pip/wheels/d7/ca/c8/86467e7957bbbcbdf4cf4870fc7dc95e9a16404b2e3c3a98c3\n",
            "Successfully built fpdf\n",
            "Installing collected packages: fpdf\n",
            "Successfully installed fpdf-1.7.2\n"
          ]
        }
      ],
      "source": [
        "#clone repository until final version of package is released\n",
        "!git clone https://github.com/oskarfernlund/niteshade.git\n",
        "%cd 'niteshade/'\n",
        "\n",
        "#necessary installs\n",
        "!pip install fpdf\n",
        "#!pip install niteshade"
      ]
    },
    {
      "cell_type": "markdown",
      "source": [
        "# Import Necessary Libraries"
      ],
      "metadata": {
        "id": "Na2Sn5owOzFa"
      }
    },
    {
      "cell_type": "code",
      "source": [
        "#necessary imports\n",
        "import numpy as np\n",
        "import torch\n",
        "\n",
        "from niteshade.attack import AddLabeledPointsAttacker, BrewPoison\n",
        "from niteshade.defence import FeasibleSetDefender, KNN_Defender, SoftmaxDefender\n",
        "from niteshade.models import MNISTClassifier, CifarClassifier, BaseModel\n",
        "from niteshade.postprocessing import PostProcessor\n",
        "from niteshade.simulation import Simulator, wrap_results\n",
        "from niteshade.utils import train_test_iris, train_test_MNIST, train_test_cifar\n",
        "from niteshade.data import DataLoader"
      ],
      "metadata": {
        "id": "7251Nyj6OvCV"
      },
      "execution_count": 2,
      "outputs": []
    },
    {
      "cell_type": "markdown",
      "source": [
        "# Using the **niteshade** Pipeline to Test Attack and Defense Strategies on an Off The Shelf ResNet-18 CIFAR10 Classifier"
      ],
      "metadata": {
        "id": "DPaAPC5bNjsO"
      }
    },
    {
      "cell_type": "code",
      "source": [
        "#load CIFAR10 data\n",
        "X_train, X_val, X_test, y_train, y_val, y_test = train_test_cifar(val_size=0.2)"
      ],
      "metadata": {
        "colab": {
          "base_uri": "https://localhost:8080/",
          "height": 103,
          "referenced_widgets": [
            "13c6423d4a1649128412ad4e5045cf10",
            "d75f3f276c7c4eff8876d604a1065368",
            "ab1101d002fa4f059fac4490158ef671",
            "5ccda0eeaf344902b893750e24b22935",
            "4880af46d5d74c34948c8e5bcf7b3dae",
            "6852ddb0b21047569596dcc85f06521c",
            "d7fe4e6f1df14a7cae9522e00e410242",
            "b4562e2bcb824398bf073bc194fa4cbc",
            "6718913c49d04cb58dedd57581a9c201",
            "1585615e0a0d4b51a1d94ff2bffb2c39",
            "4e3860efebe34441897ad5fc48ab9004"
          ]
        },
        "id": "c-DJ_1EH8jxE",
        "outputId": "f4f97a79-b50a-4ca4-f78f-5d01d3f38d32"
      },
      "execution_count": 3,
      "outputs": [
        {
          "output_type": "stream",
          "name": "stdout",
          "text": [
            "Downloading https://www.cs.toronto.edu/~kriz/cifar-10-python.tar.gz to ./data/cifar-10-python.tar.gz\n"
          ]
        },
        {
          "output_type": "display_data",
          "data": {
            "text/plain": [
              "  0%|          | 0/170498071 [00:00<?, ?it/s]"
            ],
            "application/vnd.jupyter.widget-view+json": {
              "version_major": 2,
              "version_minor": 0,
              "model_id": "13c6423d4a1649128412ad4e5045cf10"
            }
          },
          "metadata": {}
        },
        {
          "output_type": "stream",
          "name": "stdout",
          "text": [
            "Extracting ./data/cifar-10-python.tar.gz to ./data\n",
            "Files already downloaded and verified\n"
          ]
        }
      ]
    },
    {
      "cell_type": "code",
      "source": [
        "torch.manual_seed(0) #seed for reproducibility\n",
        "\n",
        "BATCH_SIZE = 32 # --> mini-batches on which model is trained on\n",
        "NUM_EPISODES = 10 # --> number of times the attacker/defender intervene\n",
        "\n",
        "#define model and simulator\n",
        "model = CifarClassifier()\n",
        "\n",
        "#BrewPoison Attacker vs KNN Defender (NEED TO TUNE THEIR PARAMETERS)\n",
        "attacker = BrewPoison(3)\n",
        "#defender = KNN_Defender(X_train, y_train, nearest_neighbours=3, confidence_threshold=0.7)\n",
        "defender = FeasibleSetDefender(X_val, y_val, threshold=5000)\n",
        "\n",
        "#define simulator\n",
        "simulator = Simulator(X_train, y_train, model=model, attacker=attacker,\n",
        "                      defender=defender, batch_size=BATCH_SIZE, num_episodes=NUM_EPISODES)\n",
        "\n",
        "#send model to device\n",
        "device = torch.device(\"cuda\" if torch.cuda.is_available() else \"cpu\")\n",
        "model = model.to(device)\n",
        "\n",
        "#running the simulation once is equivalent to training the model on \n",
        "#the whole dataset (X_train,y_train) passed in the constructor method\n",
        "simulator.run(attacker_requires_model=True)\n",
        "\n",
        "#calculate the accuracy on the validation set to prevent overfitting\n",
        "accuracy = model.evaluate(X_val, y_val, BATCH_SIZE)\n",
        "print(\"VALIDATION ACCURACY = {:.2f}%\".format(accuracy))"
      ],
      "metadata": {
        "colab": {
          "base_uri": "https://localhost:8080/"
        },
        "id": "gmdansNXPPEz",
        "outputId": "66253165-82f6-4e9f-c468-2541f43e7343"
      },
      "execution_count": 13,
      "outputs": [
        {
          "output_type": "stream",
          "name": "stderr",
          "text": [
            "Running simulation: 100%|██████████| 10/10 [00:40<00:00,  4.04s/episode, loss=0.0311]\n"
          ]
        },
        {
          "output_type": "stream",
          "name": "stdout",
          "text": [
            "VALIDATION ACCURACY = 63.98%\n"
          ]
        }
      ]
    },
    {
      "cell_type": "code",
      "source": [
        "#evaluate on the held out test set\n",
        "accuracy = model.evaluate(X_test, y_test, BATCH_SIZE)\n",
        "print(\"TEST ACCURACY = \", accuracy, \"%\")"
      ],
      "metadata": {
        "colab": {
          "base_uri": "https://localhost:8080/"
        },
        "id": "YH_rkJuhnAwF",
        "outputId": "a704e1ce-2804-46cd-c8a1-3f82009dfbb0"
      },
      "execution_count": 14,
      "outputs": [
        {
          "output_type": "stream",
          "name": "stdout",
          "text": [
            "TEST ACCURACY =  65.12419871794872 %\n"
          ]
        }
      ]
    },
    {
      "cell_type": "markdown",
      "source": [
        "## **PostProcessor Functionalities**"
      ],
      "metadata": {
        "id": "rMBLZ3ecrjjA"
      }
    },
    {
      "cell_type": "code",
      "source": [
        "simulators = {\"brew_vs_knn\": simulator} # --> define dict with keys as descriptions of simulations\n",
        "pp = PostProcessor(simulators) # --> postprocessor object with simulators dict as arguments\n",
        "\n",
        "#plot test accuracies throughout online learning\n",
        "metrics = pp.compute_online_learning_metrics(X_test, y_test)\n",
        "pp.plot_online_learning_metrics(metrics, show_plot=False, save=True, \n",
        "                                plotname='test_accuracies', set_plot_title=False)"
      ],
      "metadata": {
        "colab": {
          "base_uri": "https://localhost:8080/",
          "height": 624
        },
        "id": "d_QlE414rNgd",
        "outputId": "7c722c80-91ff-4e10-9b30-20e6aa93c7e9"
      },
      "execution_count": 15,
      "outputs": [
        {
          "output_type": "stream",
          "name": "stderr",
          "text": [
            "100%|██████████| 1/1 [00:23<00:00, 23.12s/it]\n"
          ]
        },
        {
          "output_type": "display_data",
          "data": {
            "text/plain": [
              "<Figure size 1080x720 with 1 Axes>"
            ],
            "image/png": "[encoded data removed]"
          },
          "metadata": {
            "needs_background": "light"
          }
        }
      ]
    },
    {
      "cell_type": "code",
      "source": [
        "#visualise attacker and defender interventions\n",
        "data_modifications = pp.track_data_modifications()\n",
        "print(data_modifications)"
      ],
      "metadata": {
        "colab": {
          "base_uri": "https://localhost:8080/"
        },
        "id": "XFeelGA6_TKk",
        "outputId": "e7cd4550-51c8-4c78-f54a-a8da2433ecf4"
      },
      "execution_count": 16,
      "outputs": [
        {
          "output_type": "stream",
          "name": "stdout",
          "text": [
            "                      brew_vs_knn\n",
            "modified_by_defender            0\n",
            "poisoned_by_attacker        33784\n",
            "removed_by_defender             0\n"
          ]
        }
      ]
    },
    {
      "cell_type": "code",
      "source": [
        ""
      ],
      "metadata": {
        "id": "J8ztab0q_c2p"
      },
      "execution_count": null,
      "outputs": []
    }
  ]
}